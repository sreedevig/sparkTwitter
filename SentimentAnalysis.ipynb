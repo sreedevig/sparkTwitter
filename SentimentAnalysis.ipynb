{
 "cells": [
  {
   "cell_type": "code",
   "execution_count": 2,
   "metadata": {
    "collapsed": false
   },
   "outputs": [
    {
     "data": {
      "text/plain": [
       "<function __main__.<lambda>>"
      ]
     },
     "execution_count": 2,
     "metadata": {},
     "output_type": "execute_result"
    }
   ],
   "source": [
    "from pyspark import SparkConf, SparkContext, SQLContext\n",
    "import atexit\n",
    "\n",
    "conf = SparkConf().setAppName(\"TwitterSentiment\")\n",
    "sc = SparkContext(conf=conf)\n",
    "sqlCtx = SQLContext(sc)\n",
    "atexit.register(lambda: sc.stop())"
   ]
  },
  {
   "cell_type": "raw",
   "metadata": {},
   "source": [
    "import re\n",
    "import json\n",
    "import nltk\n",
    "import random\n",
    "import string\n",
    "import numpy as np\n",
    "from nltk.corpus import stopwords\n",
    "import matplotlib.pyplot as plt"
   ]
  },
  {
   "cell_type": "code",
   "execution_count": 1,
   "metadata": {
    "collapsed": false
   },
   "outputs": [],
   "source": [
    "import re\n",
    "\n",
    "def removeURLS(text):\n",
    "    text = text.lower().strip()\n",
    "    text = re.sub('((www\\.[^\\s]+)|(https?://[^\\s]+))', '', text)\n",
    "    #text = str(text.encode('utf-8') if text else text)   \n",
    "    return text"
   ]
  },
  {
   "cell_type": "code",
   "execution_count": 2,
   "metadata": {
    "collapsed": false
   },
   "outputs": [],
   "source": [
    "rdd = (sc.textFile('hdfs://spark.rcg.usm.maine.edu:9000/sgangarapu/tweetTrain.csv').map(removeURLS))"
   ]
  },
  {
   "cell_type": "code",
   "execution_count": 3,
   "metadata": {
    "collapsed": false
   },
   "outputs": [
    {
     "data": {
      "text/plain": [
       "[u'kat,\"apr 15, 2016 7:12:04 pm\",style ',\n",
       " u'dee,\"apr 15, 2016 7:12:05 pm\",\"morning bonding with my buddy.. \\U0001f4aa\\U0001f3fb\\U0001f600\\U0001f3c3\\U0001f3fd @ st. jude church, malacanang palace ',\n",
       " u'mike stunson,\"apr 15, 2016 7:12:05 pm\",bases loaded and two outs for cam kelly in the first for murray.',\n",
       " u'\"\\u2022\\u2022princ\\xa3 ak\\u20ac\\u20acm\\u2022\\u2022\",\"apr 15, 2016 7:12:05 pm\",rt @showersideas: why is donkey kong called donkey kong when he\\'s a monkey?',\n",
       " u'macc buddha,\"apr 15, 2016 7:12:05 pm\",\"rt @giants: fact/fiction - #giants vs. packers is the best game on big blue\\'s schedule?']"
      ]
     },
     "execution_count": 3,
     "metadata": {},
     "output_type": "execute_result"
    }
   ],
   "source": [
    "rdd.take(5)"
   ]
  },
  {
   "cell_type": "code",
   "execution_count": 1,
   "metadata": {
    "collapsed": false
   },
   "outputs": [],
   "source": [
    "df = sqlCtx.read.format('com.databricks.spark.csv').option('header', 'false').load('hdfs://spark.rcg.usm.maine.edu:9000/sgangarapu/tweetTrain.csv')"
   ]
  },
  {
   "cell_type": "code",
   "execution_count": 3,
   "metadata": {
    "collapsed": false
   },
   "outputs": [
    {
     "data": {
      "text/plain": [
       "[('C0', 'string'), ('C1', 'string'), ('C2', 'string')]"
      ]
     },
     "execution_count": 3,
     "metadata": {},
     "output_type": "execute_result"
    }
   ],
   "source": [
    "df.dtypes"
   ]
  },
  {
   "cell_type": "code",
   "execution_count": 4,
   "metadata": {
    "collapsed": false
   },
   "outputs": [
    {
     "data": {
      "text/plain": [
       "302164"
      ]
     },
     "execution_count": 4,
     "metadata": {},
     "output_type": "execute_result"
    }
   ],
   "source": [
    "df.count()"
   ]
  },
  {
   "cell_type": "code",
   "execution_count": 2,
   "metadata": {
    "collapsed": false
   },
   "outputs": [
    {
     "name": "stdout",
     "output_type": "stream",
     "text": [
      "+--------------------+\n",
      "|                text|\n",
      "+--------------------+\n",
      "|style https://t.c...|\n",
      "|Morning bonding w...|\n",
      "|Bases loaded and ...|\n",
      "|RT @ShowersIdeas:...|\n",
      "|@1LoganHenderson ...|\n",
      "|RT @fubaglady: I ...|\n",
      "|#INTL morning.. c...|\n",
      "|.@DRM00RE @Ass2Da...|\n",
      "|Received this won...|\n",
      "|RT @jesse_duplant...|\n",
      "|Evangelio y Vida ...|\n",
      "|@Wronganswerpal a...|\n",
      "|RT @AldubEUzone_G...|\n",
      "|Manchester City a...|\n",
      "|2016 Lamborghini ...|\n",
      "|RT @bruhitszach: ...|\n",
      "|RT @GREATBLACKOTA...|\n",
      "|The Heart And Sou...|\n",
      "|اني اراك بعين قلب...|\n",
      "|only real niggas ...|\n",
      "+--------------------+\n",
      "\n"
     ]
    }
   ],
   "source": [
    "df = df.drop('C0')\n",
    "df = df.drop('C1')\n",
    "df = df.selectExpr(\"C2 as text\")\n",
    "df = df.na.drop()\n",
    "df.show()"
   ]
  },
  {
   "cell_type": "code",
   "execution_count": 8,
   "metadata": {
    "collapsed": false
   },
   "outputs": [
    {
     "data": {
      "text/plain": [
       "227994"
      ]
     },
     "execution_count": 8,
     "metadata": {},
     "output_type": "execute_result"
    }
   ],
   "source": [
    "df.count()"
   ]
  },
  {
   "cell_type": "code",
   "execution_count": 3,
   "metadata": {
    "collapsed": false
   },
   "outputs": [
    {
     "data": {
      "text/plain": [
       "[[u'style https://t.co/DEaspvM7bV'],\n",
       " [u'Morning bonding with my buddy.. \\U0001f4aa\\U0001f3fb\\U0001f600\\U0001f3c3\\U0001f3fd @ St. Jude Church, Malacanang Palace https://t.co/M5Xg7ujF0S'],\n",
       " [u'Bases loaded and two outs for Cam Kelly in the first for Murray.'],\n",
       " [u\"RT @ShowersIdeas: Why is Donkey Kong called Donkey Kong when he's a monkey?\"],\n",
       " [u\"@1LoganHenderson I'M SO EXCITED\"]]"
      ]
     },
     "execution_count": 3,
     "metadata": {},
     "output_type": "execute_result"
    }
   ],
   "source": [
    "rd = df.map(list)\n",
    "rd.take(5)"
   ]
  },
  {
   "cell_type": "code",
   "execution_count": 25,
   "metadata": {
    "collapsed": false
   },
   "outputs": [
    {
     "data": {
      "text/plain": [
       "227994"
      ]
     },
     "execution_count": 25,
     "metadata": {},
     "output_type": "execute_result"
    }
   ],
   "source": [
    "rd.count()"
   ]
  },
  {
   "cell_type": "code",
   "execution_count": 4,
   "metadata": {
    "collapsed": false
   },
   "outputs": [
    {
     "data": {
      "text/plain": [
       "[u'style httpstcodeaspvmbv',\n",
       " u'morning bonding with my buddy   st jude church malacanang palace httpstcomxgujfs',\n",
       " u'bases loaded and two outs for cam kelly in the first for murray',\n",
       " u'rt showersideas why is donkey kong called donkey kong when hes a monkey',\n",
       " u'loganhenderson im so excited']"
      ]
     },
     "execution_count": 4,
     "metadata": {},
     "output_type": "execute_result"
    }
   ],
   "source": [
    "import re\n",
    "\n",
    "rd = rd.map(lambda x: re.sub('[^a-zA-Z\\\\s]', '', x[0]).lower())\n",
    "rd.take(5)"
   ]
  },
  {
   "cell_type": "code",
   "execution_count": 5,
   "metadata": {
    "collapsed": false
   },
   "outputs": [],
   "source": [
    "stopWords = []\n",
    "stopWords = sc.textFile(\"hdfs://spark.rcg.usm.maine.edu:9000/sgangarapu/stop-words.txt\").flatMap(lambda x: x.split(' ')).collect()"
   ]
  },
  {
   "cell_type": "code",
   "execution_count": 6,
   "metadata": {
    "collapsed": false
   },
   "outputs": [
    {
     "name": "stdout",
     "output_type": "stream",
     "text": [
      "+--------------------+\n",
      "|                Text|\n",
      "+--------------------+\n",
      "|style httpstcodea...|\n",
      "|morning bonding w...|\n",
      "|bases loaded and ...|\n",
      "|rt showersideas w...|\n",
      "|loganhenderson im...|\n",
      "|rt fubaglady i la...|\n",
      "|intl morning come...|\n",
      "|drmre assday  htt...|\n",
      "|received this won...|\n",
      "|rt jesseduplantis...|\n",
      "|evangelio y vida ...|\n",
      "|wronganswerpal ag...|\n",
      "|rt aldubeuzoneger...|\n",
      "|manchester city a...|\n",
      "| lamborghini hura...|\n",
      "|rt bruhitszach fo...|\n",
      "|rt greatblackotak...|\n",
      "|the heart and sou...|\n",
      "|                    |\n",
      "|only real niggas ...|\n",
      "+--------------------+\n",
      "\n"
     ]
    }
   ],
   "source": [
    "from pyspark.sql import Row\n",
    "\n",
    "row = Row(\"Text\") # Or some other column name\n",
    "data = rd.map(row).toDF()\n",
    "data = data.na.drop()\n",
    "data.show()"
   ]
  },
  {
   "cell_type": "code",
   "execution_count": 7,
   "metadata": {
    "collapsed": false
   },
   "outputs": [],
   "source": [
    "from pyspark.sql.functions import udf\n",
    "from pyspark.sql.types import ArrayType, StringType\n",
    "\n",
    "def f(s):\n",
    "    tokens = s.split(' ')\n",
    "    return [t for t in tokens if t.lower() not in stopWords]\n",
    "\n",
    "t = ArrayType(StringType())\n",
    "data1 = data.withColumn('Filtered', udf(f, t)(data['Text']))"
   ]
  },
  {
   "cell_type": "code",
   "execution_count": 8,
   "metadata": {
    "collapsed": false
   },
   "outputs": [
    {
     "name": "stdout",
     "output_type": "stream",
     "text": [
      "+--------------------+--------------------+\n",
      "|                Text|            Filtered|\n",
      "+--------------------+--------------------+\n",
      "|style httpstcodea...|ArrayBuffer(style...|\n",
      "|morning bonding w...|ArrayBuffer(morni...|\n",
      "|bases loaded and ...|ArrayBuffer(bases...|\n",
      "|rt showersideas w...|ArrayBuffer(showe...|\n",
      "|loganhenderson im...|ArrayBuffer(logan...|\n",
      "|rt fubaglady i la...|ArrayBuffer(fubag...|\n",
      "|intl morning come...|ArrayBuffer(intl,...|\n",
      "|drmre assday  htt...|ArrayBuffer(drmre...|\n",
      "|received this won...|ArrayBuffer(recei...|\n",
      "|rt jesseduplantis...|ArrayBuffer(jesse...|\n",
      "|evangelio y vida ...|ArrayBuffer(evang...|\n",
      "|wronganswerpal ag...|ArrayBuffer(wrong...|\n",
      "|rt aldubeuzoneger...|ArrayBuffer(aldub...|\n",
      "|manchester city a...|ArrayBuffer(manch...|\n",
      "| lamborghini hura...|ArrayBuffer(lambo...|\n",
      "|rt bruhitszach fo...|ArrayBuffer(bruhi...|\n",
      "|rt greatblackotak...|ArrayBuffer(great...|\n",
      "|the heart and sou...|ArrayBuffer(heart...|\n",
      "|                    |       ArrayBuffer()|\n",
      "|only real niggas ...|ArrayBuffer(real,...|\n",
      "+--------------------+--------------------+\n",
      "\n"
     ]
    }
   ],
   "source": [
    "data1.show()"
   ]
  },
  {
   "cell_type": "code",
   "execution_count": 9,
   "metadata": {
    "collapsed": true
   },
   "outputs": [],
   "source": [
    "posWords = []\n",
    "posWords = sc.textFile(\"hdfs://spark.rcg.usm.maine.edu:9000/sgangarapu/pos-words.txt\").flatMap(lambda x: x.split(' ')).collect()\n",
    "\n",
    "negWords = []\n",
    "negWords = sc.textFile(\"hdfs://spark.rcg.usm.maine.edu:9000/sgangarapu/neg-words.txt\").flatMap(lambda x: x.split(' ')).collect()"
   ]
  },
  {
   "cell_type": "code",
   "execution_count": 12,
   "metadata": {
    "collapsed": false
   },
   "outputs": [],
   "source": [
    "from pyspark.sql.types import FloatType\n",
    "\n",
    "def k(s):\n",
    "    numWords = len(s)\n",
    "    numPosWords = 0\n",
    "    numNegWords = 0\n",
    "    for t in s:\n",
    "        if t in posWords:\n",
    "            numPosWords += 1\n",
    "        elif t in negWords:\n",
    "            numNegWords += 1\n",
    "    return [numPosWords, numNegWords]\n",
    "\n",
    "data2 = data1.withColumn('PosNeg', udf(k, ArrayType(FloatType()))(data1['Filtered']))"
   ]
  },
  {
   "cell_type": "code",
   "execution_count": 13,
   "metadata": {
    "collapsed": false
   },
   "outputs": [
    {
     "name": "stdout",
     "output_type": "stream",
     "text": [
      "+--------------------+--------------------+-----------------+\n",
      "|                Text|            Filtered|           PosNeg|\n",
      "+--------------------+--------------------+-----------------+\n",
      "|style httpstcodea...|ArrayBuffer(style...|ArrayBuffer(0, 0)|\n",
      "|morning bonding w...|ArrayBuffer(morni...|ArrayBuffer(0, 0)|\n",
      "|bases loaded and ...|ArrayBuffer(bases...|ArrayBuffer(0, 0)|\n",
      "|rt showersideas w...|ArrayBuffer(showe...|ArrayBuffer(0, 0)|\n",
      "|loganhenderson im...|ArrayBuffer(logan...|ArrayBuffer(1, 0)|\n",
      "|rt fubaglady i la...|ArrayBuffer(fubag...|ArrayBuffer(0, 1)|\n",
      "|intl morning come...|ArrayBuffer(intl,...|ArrayBuffer(0, 0)|\n",
      "|drmre assday  htt...|ArrayBuffer(drmre...|ArrayBuffer(1, 0)|\n",
      "|received this won...|ArrayBuffer(recei...|ArrayBuffer(1, 0)|\n",
      "|rt jesseduplantis...|ArrayBuffer(jesse...|ArrayBuffer(4, 0)|\n",
      "|evangelio y vida ...|ArrayBuffer(evang...|ArrayBuffer(0, 0)|\n",
      "|wronganswerpal ag...|ArrayBuffer(wrong...|ArrayBuffer(0, 1)|\n",
      "|rt aldubeuzoneger...|ArrayBuffer(aldub...|ArrayBuffer(0, 0)|\n",
      "|manchester city a...|ArrayBuffer(manch...|ArrayBuffer(0, 0)|\n",
      "| lamborghini hura...|ArrayBuffer(lambo...|ArrayBuffer(0, 0)|\n",
      "|rt bruhitszach fo...|ArrayBuffer(bruhi...|ArrayBuffer(1, 0)|\n",
      "|rt greatblackotak...|ArrayBuffer(great...|ArrayBuffer(0, 0)|\n",
      "|the heart and sou...|ArrayBuffer(heart...|ArrayBuffer(2, 0)|\n",
      "|                    |       ArrayBuffer()|ArrayBuffer(0, 0)|\n",
      "|only real niggas ...|ArrayBuffer(real,...|ArrayBuffer(0, 0)|\n",
      "+--------------------+--------------------+-----------------+\n",
      "\n"
     ]
    }
   ],
   "source": [
    "data2.show()"
   ]
  },
  {
   "cell_type": "code",
   "execution_count": 19,
   "metadata": {
    "collapsed": false
   },
   "outputs": [],
   "source": [
    "def l(s):\n",
    "    if s[0] > s[1]:\n",
    "        return 'positive'\n",
    "    elif s[1] > s[0]:\n",
    "        return 'negative'\n",
    "    else:\n",
    "        return 'neutral'\n",
    "\n",
    "data2 = data2.withColumn('Senti', udf(l, StringType())(data2['PosNeg']))"
   ]
  },
  {
   "cell_type": "code",
   "execution_count": 20,
   "metadata": {
    "collapsed": false
   },
   "outputs": [
    {
     "name": "stdout",
     "output_type": "stream",
     "text": [
      "+--------------------+--------------------+-----------------+--------+\n",
      "|                Text|            Filtered|           PosNeg|   Senti|\n",
      "+--------------------+--------------------+-----------------+--------+\n",
      "|style httpstcodea...|ArrayBuffer(style...|ArrayBuffer(0, 0)| neutral|\n",
      "|morning bonding w...|ArrayBuffer(morni...|ArrayBuffer(0, 0)| neutral|\n",
      "|bases loaded and ...|ArrayBuffer(bases...|ArrayBuffer(0, 0)| neutral|\n",
      "|rt showersideas w...|ArrayBuffer(showe...|ArrayBuffer(0, 0)| neutral|\n",
      "|loganhenderson im...|ArrayBuffer(logan...|ArrayBuffer(1, 0)|positive|\n",
      "|rt fubaglady i la...|ArrayBuffer(fubag...|ArrayBuffer(0, 1)|negative|\n",
      "|intl morning come...|ArrayBuffer(intl,...|ArrayBuffer(0, 0)| neutral|\n",
      "|drmre assday  htt...|ArrayBuffer(drmre...|ArrayBuffer(1, 0)|positive|\n",
      "|received this won...|ArrayBuffer(recei...|ArrayBuffer(1, 0)|positive|\n",
      "|rt jesseduplantis...|ArrayBuffer(jesse...|ArrayBuffer(4, 0)|positive|\n",
      "|evangelio y vida ...|ArrayBuffer(evang...|ArrayBuffer(0, 0)| neutral|\n",
      "|wronganswerpal ag...|ArrayBuffer(wrong...|ArrayBuffer(0, 1)|negative|\n",
      "|rt aldubeuzoneger...|ArrayBuffer(aldub...|ArrayBuffer(0, 0)| neutral|\n",
      "|manchester city a...|ArrayBuffer(manch...|ArrayBuffer(0, 0)| neutral|\n",
      "| lamborghini hura...|ArrayBuffer(lambo...|ArrayBuffer(0, 0)| neutral|\n",
      "|rt bruhitszach fo...|ArrayBuffer(bruhi...|ArrayBuffer(1, 0)|positive|\n",
      "|rt greatblackotak...|ArrayBuffer(great...|ArrayBuffer(0, 0)| neutral|\n",
      "|the heart and sou...|ArrayBuffer(heart...|ArrayBuffer(2, 0)|positive|\n",
      "|                    |       ArrayBuffer()|ArrayBuffer(0, 0)| neutral|\n",
      "|only real niggas ...|ArrayBuffer(real,...|ArrayBuffer(0, 0)| neutral|\n",
      "+--------------------+--------------------+-----------------+--------+\n",
      "\n"
     ]
    }
   ],
   "source": [
    "data2.show()"
   ]
  },
  {
   "cell_type": "code",
   "execution_count": 1,
   "metadata": {
    "collapsed": true
   },
   "outputs": [],
   "source": [
    "sc.stop()"
   ]
  }
 ],
 "metadata": {
  "kernelspec": {
   "display_name": "Python 2",
   "language": "python",
   "name": "python2"
  },
  "language_info": {
   "codemirror_mode": {
    "name": "ipython",
    "version": 2
   },
   "file_extension": ".py",
   "mimetype": "text/x-python",
   "name": "python",
   "nbconvert_exporter": "python",
   "pygments_lexer": "ipython2",
   "version": "2.7.6"
  }
 },
 "nbformat": 4,
 "nbformat_minor": 0
}
